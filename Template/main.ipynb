{
 "cells": [
  {
   "cell_type": "code",
   "execution_count": null,
   "metadata": {},
   "outputs": [],
   "source": [
    "# from model import LLM\n",
    "# model = LLM()\n",
    "# model = LLM('outputs_gemma-ko-2b/checkpoint-1827') # 훈련된 모델을 가져올 수 있음\n",
    "# model = LLM(prompt = prompt) 프롬프트를 지정하여 훈련 / 추론할 수 있음\n",
    "# model.make_dataset() # traindataset을 만듬 (model.train_dataset으로 결과를 볼 수 있음)\n",
    "# model.view_data(idx) # idx에 해당하는 전처리된 데이터를 자연어의 형태로 확인\n",
    "# model.train() # 만든 traindataset으로 훈련\n",
    "# model.inference() # 훈련된 모델을 바탕으로 추론 / 기본값 : logit_base\n",
    "# model.inference(mode = 'generative_base') # 생성 방식으로 추론 / 간혹 생성이 잘못된건 1로 내보냄"
   ]
  },
  {
   "cell_type": "code",
   "execution_count": null,
   "metadata": {},
   "outputs": [],
   "source": [
    "from model import LLM"
   ]
  },
  {
   "cell_type": "code",
   "execution_count": null,
   "metadata": {},
   "outputs": [],
   "source": [
    "model = LLM(prompt='short_cot')"
   ]
  },
  {
   "cell_type": "code",
   "execution_count": null,
   "metadata": {},
   "outputs": [],
   "source": [
    "model.make_dataset()\n",
    "model.train_dataset"
   ]
  },
  {
   "cell_type": "code",
   "execution_count": null,
   "metadata": {},
   "outputs": [],
   "source": [
    "model.train()"
   ]
  },
  {
   "cell_type": "code",
   "execution_count": null,
   "metadata": {},
   "outputs": [],
   "source": [
    "model = LLM('outputs_Llama-3.2-Rabbit-Ko-3B-Instruct/checkpoint-3654')"
   ]
  },
  {
   "cell_type": "code",
   "execution_count": null,
   "metadata": {},
   "outputs": [],
   "source": [
    "# model.inference(mode = 'generative_base')\n",
    "model.inference(mode = 'logit_base')"
   ]
  },
  {
   "cell_type": "code",
   "execution_count": null,
   "metadata": {},
   "outputs": [],
   "source": [
    "import matplotlib.pyplot as plt\n",
    "import pandas as pd\n",
    "\n",
    "output = pd.read_csv('./output_logit_base.csv')\n",
    "# infer_results가 이미 DataFrame으로 존재한다고 가정\n",
    "answer_distribution = output['answer'].value_counts()\n",
    "\n",
    "# 결과 출력\n",
    "print(answer_distribution)\n",
    "\n",
    "# 시각화\n",
    "answer_distribution.plot(kind='bar', color='skyblue', edgecolor='black')\n",
    "plt.title('Answer Distribution')\n",
    "plt.xlabel('Answer')\n",
    "plt.ylabel('Count')\n",
    "plt.show()"
   ]
  },
  {
   "cell_type": "code",
   "execution_count": null,
   "metadata": {},
   "outputs": [],
   "source": [
    "# Bllossom/llama-3.2-Korean-Bllossom-3B"
   ]
  }
 ],
 "metadata": {
  "kernelspec": {
   "display_name": "base",
   "language": "python",
   "name": "python3"
  },
  "language_info": {
   "codemirror_mode": {
    "name": "ipython",
    "version": 3
   },
   "file_extension": ".py",
   "mimetype": "text/x-python",
   "name": "python",
   "nbconvert_exporter": "python",
   "pygments_lexer": "ipython3",
   "version": "3.10.13"
  }
 },
 "nbformat": 4,
 "nbformat_minor": 2
}
