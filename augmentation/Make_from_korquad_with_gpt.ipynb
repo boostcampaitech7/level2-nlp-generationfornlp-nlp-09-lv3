{
 "cells": [
  {
   "cell_type": "code",
   "execution_count": 15,
   "metadata": {},
   "outputs": [
    {
     "name": "stderr",
     "output_type": "stream",
     "text": [
      "/opt/conda/lib/python3.10/site-packages/tqdm/auto.py:21: TqdmWarning: IProgress not found. Please update jupyter and ipywidgets. See https://ipywidgets.readthedocs.io/en/stable/user_install.html\n",
      "  from .autonotebook import tqdm as notebook_tqdm\n"
     ]
    }
   ],
   "source": [
    "## GPT를 활용해서 Few shot inference를 수행합니다.\n",
    "## 하나의 data 생성에 30초정도 걸립니다... korquad의 unique한 context 9000개를 활용해서 \n",
    "## 문제를 제작할 경우 약 16시간정도의 시간이 걸립니다.\n",
    "import openai\n",
    "from datasets import load_dataset\n",
    "import pandas as pd\n",
    "import numpy as np\n",
    "from ast import literal_eval\n",
    "\n",
    "\n",
    "data = pd.read_csv('train.csv')\n",
    "korquad = load_dataset('KorQuAD/squad_kor_v1')\n",
    "context = list(set(korquad['train']['context']))\n",
    "client = openai.OpenAI(\n",
    "    api_key=\"YOUR API KEY\"\n",
    ")"
   ]
  },
  {
   "cell_type": "code",
   "execution_count": 16,
   "metadata": {},
   "outputs": [],
   "source": [
    "def generate(context):\n",
    "    response = client.chat.completions.create(\n",
    "        model=\"gpt-4-turbo\",\n",
    "        messages=[\n",
    "            {\n",
    "                \"role\": \"system\",\n",
    "                \"content\": \"주어진 context를 다음과 같은 형식으로 문제로 만들어주세요.\",\n",
    "            },\n",
    "            {\n",
    "                \"role\": \"user\",\n",
    "                \"content\": (\n",
    "                    f\"paragraph : {data['paragraph'][0]} problems : {data['problems'][0]} \"\n",
    "                    f\"paragraph : {data['paragraph'][1]} problems : {data['problems'][2]} \"\n",
    "                    f\"paragraph : {data['paragraph'][1000]} problems : {data['problems'][1000]} \"\n",
    "                    f\"paragraph : {data['paragraph'][1030]} problems : {data['problems'][1030]} \"\n",
    "                    f\"paragraph : {context} problems : \"\n",
    "                ),\n",
    "            },\n",
    "        ],\n",
    "    )\n",
    "    response = response.choices[0].message.content\n",
    "    row = {\n",
    "        \"id\": f\"yongari_generate_{int(str(abs(hash(context)))[:5])}\",\n",
    "        \"paragraph\": context,\n",
    "        \"problems\": response.replace(\"\\n\", \" \"),  # \\n 제거\n",
    "        \"question_plus\": np.nan,\n",
    "    }\n",
    "    return row\n"
   ]
  },
  {
   "cell_type": "code",
   "execution_count": 17,
   "metadata": {},
   "outputs": [],
   "source": [
    "contexts = list(set(korquad['train']['context']))"
   ]
  },
  {
   "cell_type": "code",
   "execution_count": null,
   "metadata": {},
   "outputs": [],
   "source": [
    "from tqdm import tqdm\n",
    "generated = []\n",
    "for context in tqdm(contexts):\n",
    "    generated.append(generate(context))"
   ]
  },
  {
   "cell_type": "code",
   "execution_count": 22,
   "metadata": {},
   "outputs": [],
   "source": [
    "generated = pd.DataFrame(generated)"
   ]
  },
  {
   "cell_type": "code",
   "execution_count": 23,
   "metadata": {},
   "outputs": [],
   "source": [
    "import re\n",
    "from ast import literal_eval\n",
    "\n",
    "# '''를 제거하는 정규식\n",
    "def cleaning(text):\n",
    "    cleaned_text = re.sub(r\"```|'''\", \"\", text)\n",
    "    cleaned_text = re.sub(r\"json\", \"\", cleaned_text)\n",
    "    \n",
    "    return cleaned_text\n",
    "# data['problems']에서 cleaning 적용\n",
    "generated['problems'] = generated['problems'].apply(cleaning)\n"
   ]
  },
  {
   "cell_type": "code",
   "execution_count": 36,
   "metadata": {},
   "outputs": [],
   "source": [
    "for i , item in generated.iterrows():\n",
    "    try:\n",
    "        literal_eval(item['problems'])\n",
    "    except:\n",
    "        print(i,'에서 오류발생',)"
   ]
  },
  {
   "cell_type": "code",
   "execution_count": 10,
   "metadata": {},
   "outputs": [
    {
     "data": {
      "text/plain": [
       "\"paragraph: 이 논쟁은 정밀 조사가 끝날 때까지 멈추지 않았다. 히틀러는 9월에 태풍 작전을 시작하여 중앙집단군이 소련의 방어선 깊이 침투하여 스몰렌스크 동쪽에서 독일군의 병력을 낭비하면 안 된다고 주장했다. 또한, 중앙집단군은 끊임없이 취약한 우측 측면으로의 공세를 시작했고 최고의 계산으로 가을 장마가 시작하는 10월 중순 모스크바 앞에 도착한다고 계산했다. 결국, 스탑스카는 도시의 최종 방어에 참여할 10개 군을 확보하고 모스크바에 주둔시켰으며 1941년 12월 방어를 시작하고 1942년 1월 반격을 시작한다. 이 군과 상관없이 히틀러는 태풍 작전을 시작했을 것이다. 이들이 효과적으로 모스크바 공세를 늦추고 짧게 공세를 하는 동안 작전은 실제로 발전되었으며 이렇게 했으면 독일은 이달 초 모스크바 공격이 가능했을 것이다. 또한, 만약 후자의 경우라면 이들은 소련군 60만명의 포로도 함께 병력에 포함시킬 수 있었을 것이다.  problems: {'question': '1941년 중반 독일군의 전략에 대한 설명으로 옳지 않은 것은 무엇인가?', 'choices': ['태풍 작전을 통해 중앙집단군이 소련의 방어선을 깊숙이 침투했다.', '히틀러는 중앙집단군이 스몰렌스크 동쪽에서 병력을 낭비하는 것을 우려했다.', '스트랙스 카는 모스크바의 최종 방어를 준비했다.', '모스크바 주변에 도착한 독일군은 소련군과의 대규모 전투 없이 간단히 도시를 점령할 수 있었다.', '히틀러는 태풍 작전을 시작함으로써 모스크바 공세를 빠르게 마치려 했다.'], 'answer': 4}\""
      ]
     },
     "execution_count": 10,
     "metadata": {},
     "output_type": "execute_result"
    }
   ],
   "source": [
    "# 생성을 하더라도 오류가 있는 행이 존재합니다. 정규식을 추가해서 지우던가 행을 지우던가 csv파일을 직접 보고 지우던가 하시면 됩니다.\n",
    "generated.iloc[2446]"
   ]
  },
  {
   "cell_type": "code",
   "execution_count": 14,
   "metadata": {},
   "outputs": [
    {
     "data": {
      "text/plain": [
       "id                                          yongari_generate_62210\n",
       "paragraph        이 논쟁은 정밀 조사가 끝날 때까지 멈추지 않았다. 히틀러는 9월에 태풍 작전을 시...\n",
       "problems         {'question': '1941년 중반 독일군의 전략에 대한 설명으로 옳지 않은 ...\n",
       "question_plus                                                  NaN\n",
       "Name: 2446, dtype: object"
      ]
     },
     "execution_count": 14,
     "metadata": {},
     "output_type": "execute_result"
    }
   ],
   "source": [
    "# 저는 몇몇개는 정규식으로, 정규식 짜기 힘든건 직접 지웠습니다. csv파일 들어가서 cmd+f를 치고 행 id를 입력해서 지우면 쉽게 지울 수 있습니다.\n",
    "generated.iloc[2446]"
   ]
  },
  {
   "cell_type": "code",
   "execution_count": 6,
   "metadata": {},
   "outputs": [],
   "source": [
    "generated['test'] = generated['problems'].apply(lambda x: literal_eval(x))"
   ]
  },
  {
   "cell_type": "code",
   "execution_count": 7,
   "metadata": {},
   "outputs": [],
   "source": [
    "# 이 과정에서도 오류가 발생할 수 있습니다. \n",
    "for idx, row in generated.iterrows():\n",
    "    try:\n",
    "        problems = literal_eval(row['problems'])\n",
    "        record = {\n",
    "        'id': row['id'],\n",
    "        'paragraph': row['paragraph'],\n",
    "        'question': problems['question'],\n",
    "        'choices': problems['choices'],\n",
    "        'answer': problems.get('answer', None),\n",
    "        \"question_plus\": problems.get('question_plus', None),\n",
    "        }\n",
    "    except:\n",
    "        print(idx,'에서 오류 발생')"
   ]
  },
  {
   "cell_type": "code",
   "execution_count": 17,
   "metadata": {},
   "outputs": [],
   "source": [
    "# 결과물 중 일부가 복수 정답을 갖는 경우가 있습니다. 정답이 하나인 경우만 뽑도록 필터링합니다.\n",
    "generated['len'] = generated['test'].apply(lambda x: len(str(x['answer'])))"
   ]
  },
  {
   "cell_type": "code",
   "execution_count": 22,
   "metadata": {},
   "outputs": [],
   "source": [
    "generated = generated[generated['len'] == 1]"
   ]
  },
  {
   "cell_type": "code",
   "execution_count": 26,
   "metadata": {},
   "outputs": [],
   "source": [
    "processed = generated[['id', 'paragraph', 'problems', 'question_plus']]\n",
    "generated.to_csv('train+generated.csv', index = False)\n",
    "generated[generated['id'].str.startswith('yongari')].to_csv('generated_from_korquad.csv', index = False)\n"
   ]
  },
  {
   "cell_type": "code",
   "execution_count": null,
   "metadata": {},
   "outputs": [],
   "source": [
    "d"
   ]
  }
 ],
 "metadata": {
  "kernelspec": {
   "display_name": "base",
   "language": "python",
   "name": "python3"
  },
  "language_info": {
   "codemirror_mode": {
    "name": "ipython",
    "version": 3
   },
   "file_extension": ".py",
   "mimetype": "text/x-python",
   "name": "python",
   "nbconvert_exporter": "python",
   "pygments_lexer": "ipython3",
   "version": "3.10.13"
  }
 },
 "nbformat": 4,
 "nbformat_minor": 2
}
