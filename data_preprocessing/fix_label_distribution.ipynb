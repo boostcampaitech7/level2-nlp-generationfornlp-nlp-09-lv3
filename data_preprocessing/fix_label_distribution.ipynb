{
 "cells": [
  {
   "cell_type": "code",
   "execution_count": 1,
   "metadata": {},
   "outputs": [],
   "source": [
    "import pandas as pd\n",
    "from ast import literal_eval\n",
    "data = pd.read_csv('train.csv')\n",
    "\n"
   ]
  },
  {
   "cell_type": "code",
   "execution_count": 2,
   "metadata": {},
   "outputs": [],
   "source": [
    "data['dic'] = data['problems'].apply(lambda x: literal_eval(x))\n",
    "data['choice'] = data['dic'].apply(lambda x: x['choices'])\n",
    "data['answer'] = data['dic'].apply(lambda x: x['answer'])\n",
    "data['question'] = data['dic'].apply(lambda x: x['question'])"
   ]
  },
  {
   "cell_type": "code",
   "execution_count": 3,
   "metadata": {},
   "outputs": [],
   "source": [
    "import random\n",
    "\n",
    "def balance_choices(row):\n",
    "    # `choices` 순서를 랜덤하게 섞음\n",
    "    shuffled_choices = random.sample(row['choice'], len(row['choice']))\n",
    "    \n",
    "    # 새로운 `answer` 계산 (기존 answer의 choice 값이 새 choices에서의 위치)\n",
    "    original_choice = row['choice'][row['answer']-1]\n",
    "    new_answer = shuffled_choices.index(original_choice) + 1\n",
    "    return {\n",
    "        'choice': shuffled_choices,\n",
    "        'answer': new_answer\n",
    "    }\n",
    "\n",
    "data[['choice', 'answer']] = data.apply(balance_choices, axis=1, result_type='expand')\n"
   ]
  },
  {
   "cell_type": "code",
   "execution_count": 4,
   "metadata": {},
   "outputs": [
    {
     "data": {
      "text/plain": [
       "answer\n",
       "4    489\n",
       "3    465\n",
       "1    444\n",
       "2    420\n",
       "5    213\n",
       "Name: count, dtype: int64"
      ]
     },
     "execution_count": 4,
     "metadata": {},
     "output_type": "execute_result"
    }
   ],
   "source": [
    "data['answer'].value_counts()\n",
    "# 분포는 5빼고 고루 분포됨. 5는 증강이 필요할듯"
   ]
  },
  {
   "cell_type": "code",
   "execution_count": 5,
   "metadata": {},
   "outputs": [
    {
     "name": "stdout",
     "output_type": "stream",
     "text": [
      "['ㄱ, ㄷ', 'ㄱ, ㄴ', 'ㄴ, ㄹ', 'ㄷ, ㄹ']\n",
      "1\n"
     ]
    }
   ],
   "source": [
    "print(data['choice'][0])\n",
    "print(data['answer'][0])"
   ]
  },
  {
   "cell_type": "code",
   "execution_count": 6,
   "metadata": {},
   "outputs": [
    {
     "data": {
      "text/plain": [
       "\"{'question': '상소한 인물이 속한 붕당에 대한 설명으로 옳은 것만을 모두 고르면?', 'choices': ['ㄱ, ㄴ', 'ㄱ, ㄷ', 'ㄴ, ㄹ', 'ㄷ, ㄹ'], 'answer': 2}\""
      ]
     },
     "execution_count": 6,
     "metadata": {},
     "output_type": "execute_result"
    }
   ],
   "source": [
    "pd.read_csv('train.csv').iloc[0]['problems']\n",
    "# choices와 answer이 잘 매칭되는 것을 볼 수 있음.\n"
   ]
  },
  {
   "cell_type": "code",
   "execution_count": 7,
   "metadata": {},
   "outputs": [],
   "source": [
    "import ast\n",
    "\n",
    "# Apply 함수에서 올바른 Python 리터럴 형식 생성\n",
    "data['problems'] = data.apply(\n",
    "    lambda x: \"{'question': '%s', 'choices': %s, 'answer': %d}\" % (\n",
    "        x['question'].replace(\"'\", \"\\\\'\"),\n",
    "        [choice.replace(\"'\", \"\\\\'\") for choice in x['choice']],\n",
    "        x['answer']\n",
    "    ),\n",
    "    axis=1\n",
    ")\n",
    "# literal_eval을 사용해 문자열을 Python 딕셔너리로 변환\n",
    "data['problems_dict'] = data['problems'].apply(ast.literal_eval)\n"
   ]
  },
  {
   "cell_type": "code",
   "execution_count": 8,
   "metadata": {},
   "outputs": [],
   "source": [
    "data[['id', 'paragraph', 'problems', 'question_plus']].to_csv('fixed_label_distribution_train.csv', index = False)"
   ]
  },
  {
   "cell_type": "code",
   "execution_count": null,
   "metadata": {},
   "outputs": [],
   "source": []
  }
 ],
 "metadata": {
  "kernelspec": {
   "display_name": "base",
   "language": "python",
   "name": "python3"
  },
  "language_info": {
   "codemirror_mode": {
    "name": "ipython",
    "version": 3
   },
   "file_extension": ".py",
   "mimetype": "text/x-python",
   "name": "python",
   "nbconvert_exporter": "python",
   "pygments_lexer": "ipython3",
   "version": "3.10.13"
  }
 },
 "nbformat": 4,
 "nbformat_minor": 2
}
